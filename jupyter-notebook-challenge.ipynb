{
 "cells": [
  {
   "cell_type": "markdown",
   "metadata": {},
   "source": [
    "# Jupyter Notebook Challenge\n",
    "\n",
    "Congratulations on completing the Introduction to Jupyter Notebooks flow! This challenge is designed to help you practice the skills introduced in that flow. \n",
    "\n",
    "We will be examining the relationship between several variables and their associated insurance premiums. The data set for this challenge is a summary of medical insurance data in the format. This notebook is structured to guide you through the challenge, but feel free to reorganize and add cells where needed in order for you to accomplish the following. In this first section of the notebook you will be exploring the data. \n",
    "________\n",
    "## Section 1: Data Exploration\n",
    "To complete the following section:\n",
    "\n",
    "- Fill out the ? in the following table:\n",
    "    - Fill in the column names\n",
    "    - Determine the data type stored in each column\n",
    "\n",
    "| 1: age | 2: ? | 3: ? | 4: ? | 5: ? | 6: ? | 7: ? |\n",
    "| -- | -- | -- | -- | -- | -- | -- |\n",
    "| int | ? | ? | ? | ? | ? | ? |\n",
    "\n",
    "- Determine how many rows of information there are. \n",
    "- Analyze the values contained in the column:\n",
    "    - The first column (`age`): determine the frequency of all ages reported in this column\n",
    "    - The third column: compute the minimum, maximum, average, and standard deviation for this column\n",
    "    - The fourth column: sort the dataFrame `(ascending = True)` based off of this column\n",
    "    - The sixth column: compute how often each value appears in this column\n",
    "    - The final column: compute the total sum of all reported values in this column"
   ]
  },
  {
   "cell_type": "markdown",
   "metadata": {},
   "source": [
    "### Import Data + Libraries"
   ]
  },
  {
   "cell_type": "code",
   "execution_count": 2,
   "metadata": {},
   "outputs": [],
   "source": [
    "import pandas as pd\n",
    "import numpy as np\n",
    "import matplotlib.pyplot as plt\n",
    "%matplotlib inline\n",
    "import seaborn as sns"
   ]
  },
  {
   "cell_type": "code",
   "execution_count": 7,
   "metadata": {},
   "outputs": [],
   "source": [
    "df = pd.read_csv('insurance.csv')"
   ]
  },
  {
   "cell_type": "code",
   "execution_count": 8,
   "metadata": {},
   "outputs": [
    {
     "data": {
      "text/html": [
       "<div>\n",
       "<style scoped>\n",
       "    .dataframe tbody tr th:only-of-type {\n",
       "        vertical-align: middle;\n",
       "    }\n",
       "\n",
       "    .dataframe tbody tr th {\n",
       "        vertical-align: top;\n",
       "    }\n",
       "\n",
       "    .dataframe thead th {\n",
       "        text-align: right;\n",
       "    }\n",
       "</style>\n",
       "<table border=\"1\" class=\"dataframe\">\n",
       "  <thead>\n",
       "    <tr style=\"text-align: right;\">\n",
       "      <th></th>\n",
       "      <th>age</th>\n",
       "      <th>sex</th>\n",
       "      <th>bmi</th>\n",
       "      <th>children</th>\n",
       "      <th>smoker</th>\n",
       "      <th>region</th>\n",
       "      <th>charges</th>\n",
       "    </tr>\n",
       "  </thead>\n",
       "  <tbody>\n",
       "    <tr>\n",
       "      <th>0</th>\n",
       "      <td>19</td>\n",
       "      <td>female</td>\n",
       "      <td>27.900</td>\n",
       "      <td>0</td>\n",
       "      <td>yes</td>\n",
       "      <td>southwest</td>\n",
       "      <td>16884.92400</td>\n",
       "    </tr>\n",
       "    <tr>\n",
       "      <th>1</th>\n",
       "      <td>18</td>\n",
       "      <td>male</td>\n",
       "      <td>33.770</td>\n",
       "      <td>1</td>\n",
       "      <td>no</td>\n",
       "      <td>southeast</td>\n",
       "      <td>1725.55230</td>\n",
       "    </tr>\n",
       "    <tr>\n",
       "      <th>2</th>\n",
       "      <td>28</td>\n",
       "      <td>male</td>\n",
       "      <td>33.000</td>\n",
       "      <td>3</td>\n",
       "      <td>no</td>\n",
       "      <td>southeast</td>\n",
       "      <td>4449.46200</td>\n",
       "    </tr>\n",
       "    <tr>\n",
       "      <th>3</th>\n",
       "      <td>33</td>\n",
       "      <td>male</td>\n",
       "      <td>22.705</td>\n",
       "      <td>0</td>\n",
       "      <td>no</td>\n",
       "      <td>northwest</td>\n",
       "      <td>21984.47061</td>\n",
       "    </tr>\n",
       "    <tr>\n",
       "      <th>4</th>\n",
       "      <td>32</td>\n",
       "      <td>male</td>\n",
       "      <td>28.880</td>\n",
       "      <td>0</td>\n",
       "      <td>no</td>\n",
       "      <td>northwest</td>\n",
       "      <td>3866.85520</td>\n",
       "    </tr>\n",
       "  </tbody>\n",
       "</table>\n",
       "</div>"
      ],
      "text/plain": [
       "   age     sex     bmi  children smoker     region      charges\n",
       "0   19  female  27.900         0    yes  southwest  16884.92400\n",
       "1   18    male  33.770         1     no  southeast   1725.55230\n",
       "2   28    male  33.000         3     no  southeast   4449.46200\n",
       "3   33    male  22.705         0     no  northwest  21984.47061\n",
       "4   32    male  28.880         0     no  northwest   3866.85520"
      ]
     },
     "execution_count": 8,
     "metadata": {},
     "output_type": "execute_result"
    }
   ],
   "source": [
    "df.head()"
   ]
  },
  {
   "cell_type": "markdown",
   "metadata": {},
   "source": [
    "________\n",
    "## Section 2: Indexing Practice\n",
    "- Index data points: \n",
    "    1. Print just the 3rd row of the data.\n",
    "    2. Print the first 6 rows of the data in a table.\n",
    "    3. Iterate through these first 6 rows: using `string.format(value1, value2...)` and `iterrows()` print a summary for each individual with their age, smoking status, and charge premium for each\n",
    "    4. Filter the data frame so that you only have individuals with more than 3 children who live in the northwest region. Calculate the average charge of individuals in this category.\n",
    "    5. Create a copy of the data using `df.copy()` and then create a column titled `'reduced_charge'` to remove 20% of the charge using the following format: <br>\n",
    "        `df['rounded_up_charge'] = df['charges'].apply(lambda x: math.ceil(x))`\n",
    "    6. Create a column titled `['mask_practice']` that contains an `'*'` if the individuals has more than 3 children and lives in the northwest and a `'x'` if not"
   ]
  },
  {
   "cell_type": "code",
   "execution_count": null,
   "metadata": {},
   "outputs": [],
   "source": []
  },
  {
   "cell_type": "markdown",
   "metadata": {},
   "source": [
    "________\n",
    "## Section 3: Summarizing the DataFrame\n",
    "<br><b>All of the following is only based off the original data, none of the values manipulated or created in the earlier section should be needed here </b>\n",
    "- Summarize the data:\n",
    "    1. Calculate the number of individuals for each age. \n",
    "    2. Create a histogram of this.\n",
    "    3. Bin the ages in spans of 5 years (ie. 15-19, 20-24, 25-29, etc) and recalculate the number of individuals for each age group.\n",
    "    4. Create a histogram of this.\n",
    "    5. Using `pandas.groupby()` to enumerate through the regions, create subplots on a single figure for the number of children in each region.\n",
    "    6. Create a heatmap using the binned ages vs region. Color the heatmap using the average charge value for each of these groups."
   ]
  },
  {
   "cell_type": "code",
   "execution_count": null,
   "metadata": {},
   "outputs": [],
   "source": []
  },
  {
   "cell_type": "markdown",
   "metadata": {},
   "source": [
    "________\n",
    "## Section 4: Data Visualization \n",
    "1. Using `seaborn.distplot` visualize the distribution of charges listed in the data\n",
    "2. After completing the above, you should see that the charges data is skewed-right (a peak on the left side of the plot with a long tail up the x-axis): transform the data to make it more normal by applying a natural log.\n",
    "3. Repeat step 1 with the newly transformed data. \n"
   ]
  },
  {
   "cell_type": "code",
   "execution_count": null,
   "metadata": {},
   "outputs": [],
   "source": []
  },
  {
   "cell_type": "markdown",
   "metadata": {},
   "source": [
    "________\n",
    "## Section 5: Introduction to Regression\n",
    "For this final section, we ask everyone to complete part one, though we encourage everyone to at least attempt part two, though it is not.\n",
    "- <b>Part One: Linear Regression</b>\n",
    "    1. Create a train-test split using sklearn using `from sklearn.model_selection import train_test_split` \n",
    "    2. Fit a linear regression model for age vs charge using your training data. (Hint: `from sklearn.linear_model import LinearRegression`)\n",
    "    3. Plot a scatter of your test data and overlay a regression line from your trained model.\n",
    "    4. Plot the residuals from your test data using\n",
    "- <b>Part Two</b>\n",
    "    - This section is intentionally left open-ended. Create and evaluate a regressor using all of the provided variables. Additional data processing might be needed to handle the categorical data. We encourage you to challenge yourself here to develop the best performing model you can. We welcome you to compare different models as well. Compute MAE, MSE, and RMSE for your final model using `metrics` from sklearn (Hint: use `from sklearn import metrics`)"
   ]
  },
  {
   "cell_type": "code",
   "execution_count": null,
   "metadata": {},
   "outputs": [],
   "source": []
  }
 ],
 "metadata": {
  "interpreter": {
   "hash": "aee8b7b246df8f9039afb4144a1f6fd8d2ca17a180786b69acc140d282b71a49"
  },
  "kernelspec": {
   "display_name": "Python 3.9.6 64-bit",
   "language": "python",
   "name": "python3"
  },
  "language_info": {
   "codemirror_mode": {
    "name": "ipython",
    "version": 3
   },
   "file_extension": ".py",
   "mimetype": "text/x-python",
   "name": "python",
   "nbconvert_exporter": "python",
   "pygments_lexer": "ipython3",
   "version": "3.9.6"
  },
  "orig_nbformat": 4
 },
 "nbformat": 4,
 "nbformat_minor": 2
}
